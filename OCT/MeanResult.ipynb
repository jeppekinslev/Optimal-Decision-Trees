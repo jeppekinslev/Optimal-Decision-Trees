{
 "cells": [
  {
   "cell_type": "code",
   "execution_count": 139,
   "id": "architectural-privacy",
   "metadata": {},
   "outputs": [],
   "source": [
    "import pandas as pd"
   ]
  },
  {
   "cell_type": "code",
   "execution_count": 140,
   "id": "informal-feelings",
   "metadata": {},
   "outputs": [],
   "source": [
    "ResOCTWS = pd.read_csv('./res/OCTWS.csv')\n",
    "ResOCTNoWS = pd.read_csv('./res/OCTNoWS.csv')\n",
    "ResCART = pd.read_csv('./res/CART.csv')\n",
    "ResOCT_b = pd.read_csv('./res/OCT_b.csv')\n",
    "ResOCT_b_scale = pd.read_csv('./res/OCT_b_scale.csv')\n",
    "res = {'OCTWS':ResOCTWS, 'OCTNoWS':ResOCTNoWS, 'OCT_b':ResOCT_b, 'OCT_b_scale':ResOCT_b_scale}"
   ]
  },
  {
   "cell_type": "code",
   "execution_count": 141,
   "id": "52c0c712",
   "metadata": {},
   "outputs": [],
   "source": [
    "def resProcess(res):\n",
    "    \"\"\"\n",
    "    Calculate the average results from random data split\n",
    "    Select alpha with highest validation accuracy\n",
    "    \"\"\"\n",
    "    if 'alpha' in res.columns:\n",
    "        # Calculate the mean of the feat for each instance, depth and alpha\n",
    "        mean = res.groupby(['instance', 'depth']).mean().reset_index()\n",
    "        std = res.groupby(['instance', 'depth']).std().reset_index()\n",
    "    else:\n",
    "        mean = res.groupby(['instance', 'depth']).mean().reset_index()\n",
    "        std = res.groupby(['instance', 'depth']).std().reset_index()\n",
    "    return mean, std"
   ]
  },
  {
   "cell_type": "code",
   "execution_count": 142,
   "id": "44978629",
   "metadata": {},
   "outputs": [],
   "source": [
    "def resCombine(res, feat):\n",
    "    df = pd.DataFrame(columns=['instance', 'depth'])\n",
    "    for r in res:\n",
    "        df_mean, df_std = resProcess(res[r])\n",
    "        df_mean = df_mean[['instance', 'depth', feat]]\n",
    "        df_std = df_std[['instance', 'depth', feat]]\n",
    "        df = df.merge(df_mean, how='outer', on=['instance', 'depth'])\n",
    "        df = df.merge(df_std, how='outer', on=['instance', 'depth'])\n",
    "        # rename columns to distinguish different models\n",
    "        df.rename(columns={feat+'_x':r+'_'+feat+'_mean', feat+'_y':r+'_'+feat+'_std'}, inplace=True)\n",
    "    return df"
   ]
  },
  {
   "cell_type": "code",
   "execution_count": 143,
   "id": "f65edc61",
   "metadata": {},
   "outputs": [],
   "source": [
    "resCombine(res, 'gap').to_csv('./res/train_time.csv', index=False)"
   ]
  },
  {
   "cell_type": "code",
   "execution_count": 83,
   "id": "ff127215",
   "metadata": {},
   "outputs": [
    {
     "data": {
      "text/plain": [
       "(           instance  depth     alpha  seed  train_acc   val_acc  test_acc  \\\n",
       " 0             Adult      1  0.036667   2.0   0.638667  0.637995  0.639174   \n",
       " 1             Adult      2  0.036667   2.0   0.638667  0.638051  0.639174   \n",
       " 2             Adult      3  0.036667   2.0   0.632969  0.632703  0.633490   \n",
       " 3     Breast Cancer      1  0.036667   2.0   0.735105  0.702093  0.696825   \n",
       " 4     Breast Cancer      2  0.036667   2.0   0.765700  0.702093  0.709524   \n",
       " 5     Breast Cancer      3  0.036667   2.0   0.786634  0.713366  0.709524   \n",
       " 6    Car Evaluation      1  0.036667   2.0   0.704861  0.706790  0.684414   \n",
       " 7    Car Evaluation      2  0.036667   2.0   0.751415  0.746914  0.750257   \n",
       " 8    Car Evaluation      3  0.036667   2.0   0.751929  0.745628  0.732510   \n",
       " 9   Credit Approval      1  0.036667   1.0   0.858896  0.865031  0.871951   \n",
       " 10  Credit Approval      2  0.036667   1.0   0.858896  0.865031  0.871951   \n",
       " 11  Credit Approval      3  0.005000   1.0   0.886503  0.904908  0.875000   \n",
       " \n",
       "     train_time       gap  \n",
       " 0   609.368379  0.953406  \n",
       " 1   618.407151       inf  \n",
       " 2   643.287392       inf  \n",
       " 3     0.187267  0.000000  \n",
       " 4    39.550137  0.000000  \n",
       " 5   546.478678  0.695932  \n",
       " 6     2.521451  0.000000  \n",
       " 7   561.157218  0.498860  \n",
       " 8   601.591733  0.811239  \n",
       " 9     1.634545  0.000000  \n",
       " 10  600.319534  0.697586  \n",
       " 11  392.282135  0.972437  ,\n",
       "            instance  depth     alpha      seed  train_acc   val_acc  test_acc  \\\n",
       " 0             Adult      1  0.047697  0.866025   0.001677  0.003826  0.003123   \n",
       " 1             Adult      2  0.047697  0.866025   0.001677  0.003810  0.003123   \n",
       " 2             Adult      3  0.047697  0.866025   0.009723  0.009486  0.005747   \n",
       " 3     Breast Cancer      1  0.047697  0.866025   0.029902  0.044735  0.046718   \n",
       " 4     Breast Cancer      2  0.047697  0.866025   0.050465  0.063219  0.046839   \n",
       " 5     Breast Cancer      3  0.047697  0.866025   0.065630  0.051126  0.046291   \n",
       " 6    Car Evaluation      1  0.047697  0.866025   0.008909  0.023493  0.031207   \n",
       " 7    Car Evaluation      2  0.047697  0.866025   0.035944  0.035523  0.053735   \n",
       " 8    Car Evaluation      3  0.047697  0.866025   0.054395  0.053797  0.064671   \n",
       " 9   Credit Approval      1  0.055076  0.000000   0.000000  0.000000  0.000000   \n",
       " 10  Credit Approval      2  0.055076  0.000000   0.000000  0.000000  0.000000   \n",
       " 11  Credit Approval      3  0.007071  0.000000   0.026028  0.021690  0.012935   \n",
       " \n",
       "     train_time       gap  \n",
       " 0     4.980294  0.059587  \n",
       " 1     0.976292       NaN  \n",
       " 2     0.251000       NaN  \n",
       " 3     0.025520  0.000000  \n",
       " 4    12.741270  0.000000  \n",
       " 5   161.918634  0.382634  \n",
       " 6     0.601593  0.000000  \n",
       " 7    64.873551  0.424368  \n",
       " 8     0.104900  0.224761  \n",
       " 9     0.747481  0.000000  \n",
       " 10    0.021533  0.458687  \n",
       " 11  294.785178  0.038981  )"
      ]
     },
     "execution_count": 83,
     "metadata": {},
     "output_type": "execute_result"
    }
   ],
   "source": [
    "resProcess(ResOCTWS)"
   ]
  },
  {
   "cell_type": "code",
   "execution_count": 109,
   "id": "f6b36314",
   "metadata": {},
   "outputs": [],
   "source": [
    "r = ResOCTWS\n",
    "feat = 'train_time'"
   ]
  },
  {
   "cell_type": "code",
   "execution_count": 122,
   "id": "a9daa0ba",
   "metadata": {},
   "outputs": [
    {
     "data": {
      "text/html": [
       "<div>\n",
       "<style scoped>\n",
       "    .dataframe tbody tr th:only-of-type {\n",
       "        vertical-align: middle;\n",
       "    }\n",
       "\n",
       "    .dataframe tbody tr th {\n",
       "        vertical-align: top;\n",
       "    }\n",
       "\n",
       "    .dataframe thead th {\n",
       "        text-align: right;\n",
       "    }\n",
       "</style>\n",
       "<table border=\"1\" class=\"dataframe\">\n",
       "  <thead>\n",
       "    <tr style=\"text-align: right;\">\n",
       "      <th></th>\n",
       "      <th>instance</th>\n",
       "      <th>depth</th>\n",
       "      <th>mean of train_time</th>\n",
       "      <th>std of train_time</th>\n",
       "    </tr>\n",
       "  </thead>\n",
       "  <tbody>\n",
       "    <tr>\n",
       "      <th>0</th>\n",
       "      <td>Adult</td>\n",
       "      <td>1</td>\n",
       "      <td>609.368379</td>\n",
       "      <td>4.980294</td>\n",
       "    </tr>\n",
       "    <tr>\n",
       "      <th>1</th>\n",
       "      <td>Adult</td>\n",
       "      <td>2</td>\n",
       "      <td>618.407151</td>\n",
       "      <td>0.976292</td>\n",
       "    </tr>\n",
       "    <tr>\n",
       "      <th>2</th>\n",
       "      <td>Adult</td>\n",
       "      <td>3</td>\n",
       "      <td>643.287392</td>\n",
       "      <td>0.251000</td>\n",
       "    </tr>\n",
       "    <tr>\n",
       "      <th>3</th>\n",
       "      <td>Breast Cancer</td>\n",
       "      <td>1</td>\n",
       "      <td>0.187267</td>\n",
       "      <td>0.025520</td>\n",
       "    </tr>\n",
       "    <tr>\n",
       "      <th>4</th>\n",
       "      <td>Breast Cancer</td>\n",
       "      <td>2</td>\n",
       "      <td>39.550137</td>\n",
       "      <td>12.741270</td>\n",
       "    </tr>\n",
       "    <tr>\n",
       "      <th>5</th>\n",
       "      <td>Breast Cancer</td>\n",
       "      <td>3</td>\n",
       "      <td>546.478678</td>\n",
       "      <td>161.918634</td>\n",
       "    </tr>\n",
       "    <tr>\n",
       "      <th>6</th>\n",
       "      <td>Car Evaluation</td>\n",
       "      <td>1</td>\n",
       "      <td>2.521451</td>\n",
       "      <td>0.601593</td>\n",
       "    </tr>\n",
       "    <tr>\n",
       "      <th>7</th>\n",
       "      <td>Car Evaluation</td>\n",
       "      <td>2</td>\n",
       "      <td>561.157218</td>\n",
       "      <td>64.873551</td>\n",
       "    </tr>\n",
       "    <tr>\n",
       "      <th>8</th>\n",
       "      <td>Car Evaluation</td>\n",
       "      <td>3</td>\n",
       "      <td>601.591733</td>\n",
       "      <td>0.104900</td>\n",
       "    </tr>\n",
       "    <tr>\n",
       "      <th>9</th>\n",
       "      <td>Credit Approval</td>\n",
       "      <td>1</td>\n",
       "      <td>1.634545</td>\n",
       "      <td>0.747481</td>\n",
       "    </tr>\n",
       "    <tr>\n",
       "      <th>10</th>\n",
       "      <td>Credit Approval</td>\n",
       "      <td>2</td>\n",
       "      <td>600.319534</td>\n",
       "      <td>0.021533</td>\n",
       "    </tr>\n",
       "    <tr>\n",
       "      <th>11</th>\n",
       "      <td>Credit Approval</td>\n",
       "      <td>3</td>\n",
       "      <td>392.282135</td>\n",
       "      <td>294.785178</td>\n",
       "    </tr>\n",
       "  </tbody>\n",
       "</table>\n",
       "</div>"
      ],
      "text/plain": [
       "           instance  depth  mean of train_time  std of train_time\n",
       "0             Adult      1          609.368379           4.980294\n",
       "1             Adult      2          618.407151           0.976292\n",
       "2             Adult      3          643.287392           0.251000\n",
       "3     Breast Cancer      1            0.187267           0.025520\n",
       "4     Breast Cancer      2           39.550137          12.741270\n",
       "5     Breast Cancer      3          546.478678         161.918634\n",
       "6    Car Evaluation      1            2.521451           0.601593\n",
       "7    Car Evaluation      2          561.157218          64.873551\n",
       "8    Car Evaluation      3          601.591733           0.104900\n",
       "9   Credit Approval      1            1.634545           0.747481\n",
       "10  Credit Approval      2          600.319534           0.021533\n",
       "11  Credit Approval      3          392.282135         294.785178"
      ]
     },
     "execution_count": 122,
     "metadata": {},
     "output_type": "execute_result"
    }
   ],
   "source": [
    "df = pd.DataFrame(columns=['instance', 'depth'])\n",
    "df_mean, df_std = resProcess(ResOCTWS)\n",
    "df_mean = df_mean[['instance', 'depth', 'train_time']]\n",
    "df_std = df_std[['instance', 'depth', 'train_time']]\n",
    "df = df.merge(df_mean, how='outer', on=['instance', 'depth'])\n",
    "df = df.merge(df_std, how='outer', on=['instance', 'depth'])\n",
    "df = df.rename(columns={'train_time_x':'mean of train_time', 'train_time_y':'std of train_time'})\n",
    "df"
   ]
  },
  {
   "cell_type": "code",
   "execution_count": 106,
   "id": "aa61cb64",
   "metadata": {},
   "outputs": [],
   "source": [
    "df_mean.rename(columns={'train_time':'OCTWS'}, inplace=True)"
   ]
  },
  {
   "cell_type": "code",
   "execution_count": 119,
   "id": "d79a0473",
   "metadata": {},
   "outputs": [
    {
     "ename": "TypeError",
     "evalue": "can't multiply sequence by non-int of type 'str'",
     "output_type": "error",
     "traceback": [
      "\u001b[0;31m---------------------------------------------------------------------------\u001b[0m",
      "\u001b[0;31mTypeError\u001b[0m                                 Traceback (most recent call last)",
      "Input \u001b[0;32mIn [119]\u001b[0m, in \u001b[0;36m<cell line: 1>\u001b[0;34m()\u001b[0m\n\u001b[0;32m----> 1\u001b[0m df_mean \u001b[38;5;241m=\u001b[39m df_mean\u001b[38;5;241m.\u001b[39mrename(columns\u001b[38;5;241m=\u001b[39m{feat:\u001b[38;5;124;43m'\u001b[39;49m\u001b[38;5;124;43mmean of \u001b[39;49m\u001b[38;5;124;43m'\u001b[39;49m\u001b[38;5;241;43m*\u001b[39;49m\u001b[43mfeat\u001b[49m\u001b[38;5;241m*\u001b[39mr})\n",
      "\u001b[0;31mTypeError\u001b[0m: can't multiply sequence by non-int of type 'str'"
     ]
    }
   ],
   "source": [
    "df_,mean"
   ]
  }
 ],
 "metadata": {
  "kernelspec": {
   "display_name": "Python 3.12.0 64-bit",
   "language": "python",
   "name": "python3"
  },
  "language_info": {
   "codemirror_mode": {
    "name": "ipython",
    "version": 3
   },
   "file_extension": ".py",
   "mimetype": "text/x-python",
   "name": "python",
   "nbconvert_exporter": "python",
   "pygments_lexer": "ipython3",
   "version": "3.9.13"
  },
  "vscode": {
   "interpreter": {
    "hash": "aee8b7b246df8f9039afb4144a1f6fd8d2ca17a180786b69acc140d282b71a49"
   }
  }
 },
 "nbformat": 4,
 "nbformat_minor": 5
}
