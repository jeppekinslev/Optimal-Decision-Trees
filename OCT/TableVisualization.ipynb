{
 "cells": [
  {
   "cell_type": "code",
   "execution_count": 13,
   "metadata": {},
   "outputs": [],
   "source": [
    "import pandas as pd"
   ]
  },
  {
   "cell_type": "code",
   "execution_count": 25,
   "metadata": {},
   "outputs": [
    {
     "name": "stdout",
     "output_type": "stream",
     "text": [
      "\\begin{tabular}{lrrr}\n",
      "instance & depth & OCTWSModified & CART \\\\\n",
      "Breast Cancer & 1 & 0.681 & 0.700 \\\\\n",
      "Breast Cancer & 2 & 0.700 & 0.743 \\\\\n",
      "Breast Cancer & 3 & 0.695 & 0.714 \\\\\n",
      "Breast Cancer & 4 & 0.662 & 0.714 \\\\\n",
      "Car Evaluation & 1 & 0.684 & 0.684 \\\\\n",
      "Car Evaluation & 2 & 0.783 & 0.782 \\\\\n",
      "Car Evaluation & 3 & 0.790 & 0.782 \\\\\n",
      "Car Evaluation & 4 & 0.809 & 0.842 \\\\\n",
      "Credit Approval & 1 & 0.858 & 0.858 \\\\\n",
      "Credit Approval & 2 & 0.858 & 0.858 \\\\\n",
      "Credit Approval & 3 & 0.882 & 0.858 \\\\\n",
      "Credit Approval & 4 & 0.888 & 0.882 \\\\\n",
      "Heart Disease & 1 & 0.564 & 0.533 \\\\\n",
      "Heart Disease & 2 & 0.564 & 0.533 \\\\\n",
      "Heart Disease & 3 & 0.564 & 0.533 \\\\\n",
      "Heart Disease & 4 & 0.564 & 0.533 \\\\\n",
      "Ionosphere & 1 & 0.845 & 0.841 \\\\\n",
      "Ionosphere & 2 & 0.792 & 0.841 \\\\\n",
      "Ionosphere & 3 & 0.845 & 0.841 \\\\\n",
      "Ionosphere & 4 & 0.845 & 0.841 \\\\\n",
      "Iris & 1 & 0.596 & 0.693 \\\\\n",
      "Iris & 2 & 0.912 & 0.921 \\\\\n",
      "Iris & 3 & 0.930 & 0.921 \\\\\n",
      "Iris & 4 & 0.939 & 0.921 \\\\\n",
      "Mushroom & 1 & 0.937 & 0.937 \\\\\n",
      "Mushroom & 2 & 0.986 & 0.986 \\\\\n",
      "Mushroom & 3 & 0.922 & 0.986 \\\\\n",
      "Mushroom & 4 & 0.644 & 0.986 \\\\\n",
      "Statlog (German Credit Data) & 1 & 0.728 & 0.719 \\\\\n",
      "Statlog (German Credit Data) & 2 & 0.733 & 0.728 \\\\\n",
      "Statlog (German Credit Data) & 3 & 0.721 & 0.727 \\\\\n",
      "Statlog (German Credit Data) & 4 & 0.719 & 0.728 \\\\\n",
      "Wine & 1 & 0.622 & 0.600 \\\\\n",
      "Wine & 2 & 0.933 & 0.933 \\\\\n",
      "Wine & 3 & 0.956 & 0.933 \\\\\n",
      "Wine & 4 & 0.956 & 0.933 \\\\\n",
      "Zoo & 1 & 0.577 & 0.577 \\\\\n",
      "Zoo & 2 & 0.795 & 0.679 \\\\\n",
      "Zoo & 3 & 0.897 & 0.821 \\\\\n",
      "Zoo & 4 & 0.936 & 0.833 \\\\\n",
      "\\end{tabular}\n",
      "\n"
     ]
    }
   ],
   "source": [
    "res = pd.read_csv('./res/ResTest.csv')\n",
    "res = res.style.format(precision=3)\n",
    "print(res.hide().to_latex())"
   ]
  }
 ],
 "metadata": {
  "kernelspec": {
   "display_name": "Python 3.9.13",
   "language": "python",
   "name": "python3"
  },
  "language_info": {
   "codemirror_mode": {
    "name": "ipython",
    "version": 3
   },
   "file_extension": ".py",
   "mimetype": "text/x-python",
   "name": "python",
   "nbconvert_exporter": "python",
   "pygments_lexer": "ipython3",
   "version": "3.9.13"
  },
  "orig_nbformat": 4,
  "vscode": {
   "interpreter": {
    "hash": "c0272e05230dc63e6e03211cff96ee0cfa8f6b88f59df09567db12e0aadba25f"
   }
  }
 },
 "nbformat": 4,
 "nbformat_minor": 2
}
