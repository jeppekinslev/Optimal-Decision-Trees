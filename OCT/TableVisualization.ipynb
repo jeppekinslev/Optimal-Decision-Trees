{
 "cells": [
  {
   "cell_type": "code",
   "execution_count": 9,
   "metadata": {},
   "outputs": [],
   "source": [
    "import pandas as pd"
   ]
  },
  {
   "cell_type": "code",
   "execution_count": 10,
   "metadata": {},
   "outputs": [],
   "source": [
    "res = pd.read_csv('./res/res_train_acc.csv')"
   ]
  },
  {
   "cell_type": "code",
   "execution_count": 11,
   "metadata": {},
   "outputs": [
    {
     "name": "stdout",
     "output_type": "stream",
     "text": [
      "\\begin{tabular}{lrrr}\n",
      "\\toprule\n",
      "instance & depth & OCT & CART \\\\\n",
      "\\midrule\n",
      "Heart failure & 2 & 0.835586 & 0.791291 \\\\\n",
      "Heart failure & 3 & 0.885135 & 0.843844 \\\\\n",
      "Heart failure & 4 & 0.925676 & 0.858859 \\\\\n",
      "Heart failure & 5 & 0.932432 & NaN \\\\\n",
      "breast-cancer & 2 & 0.837838 & 0.791291 \\\\\n",
      "breast-cancer & 3 & 0.885135 & 0.843844 \\\\\n",
      "breast-cancer & 4 & 0.927928 & 0.858108 \\\\\n",
      "car-evaluation & 2 & 0.835586 & 0.791291 \\\\\n",
      "car-evaluation & 3 & 0.882883 & 0.843844 \\\\\n",
      "hayes-roth & 2 & 0.833333 & 0.791291 \\\\\n",
      "hayes-roth & 3 & 0.885135 & 0.843844 \\\\\n",
      "hayes-roth & 4 & 0.927928 & 0.858108 \\\\\n",
      "house-votes-84 & 2 & 0.835586 & 0.791291 \\\\\n",
      "house-votes-84 & 3 & 0.885135 & 0.843844 \\\\\n",
      "monks-1 & 2 & 0.835586 & 0.791291 \\\\\n",
      "monks-1 & 3 & 0.882883 & 0.843844 \\\\\n",
      "monks-1 & 4 & 0.927928 & 0.858108 \\\\\n",
      "monks-2 & 2 & 0.835586 & 0.791291 \\\\\n",
      "monks-2 & 3 & 0.885135 & 0.843844 \\\\\n",
      "monks-3 & 2 & 0.835586 & 0.791291 \\\\\n",
      "monks-3 & 3 & 0.882883 & 0.843844 \\\\\n",
      "monks-3 & 4 & 0.925676 & 0.858859 \\\\\n",
      "soybean-small & 2 & 0.835586 & 0.791291 \\\\\n",
      "soybean-small & 3 & 0.885135 & 0.843844 \\\\\n",
      "soybean-small & 4 & 0.927928 & 0.858859 \\\\\n",
      "spect & 2 & 0.835586 & 0.791291 \\\\\n",
      "spect & 3 & 0.882883 & 0.843844 \\\\\n",
      "spect & 4 & 0.925676 & 0.859610 \\\\\n",
      "tic-tac-toe & 2 & 0.835586 & 0.791291 \\\\\n",
      "tic-tac-toe & 3 & 0.885135 & 0.843844 \\\\\n",
      "tic-tac-toe & 4 & 0.927928 & 0.857357 \\\\\n",
      "balance-scale & 2 & NaN & 0.791291 \\\\\n",
      "balance-scale & 3 & NaN & 0.843844 \\\\\n",
      "balance-scale & 4 & NaN & 0.858108 \\\\\n",
      "car-evaluation & 4 & NaN & 0.858108 \\\\\n",
      "house-votes-84 & 4 & NaN & 0.858108 \\\\\n",
      "monks-2 & 4 & NaN & 0.857357 \\\\\n",
      "\\bottomrule\n",
      "\\end{tabular}\n",
      "\n"
     ]
    }
   ],
   "source": [
    "print(res.to_latex(index=False, columns = [\"instance\", \"depth\", \"OCT\", \"CART\"]))"
   ]
  }
 ],
 "metadata": {
  "kernelspec": {
   "display_name": "Python 3.9.13",
   "language": "python",
   "name": "python3"
  },
  "language_info": {
   "codemirror_mode": {
    "name": "ipython",
    "version": 3
   },
   "file_extension": ".py",
   "mimetype": "text/x-python",
   "name": "python",
   "nbconvert_exporter": "python",
   "pygments_lexer": "ipython3",
   "version": "3.9.13"
  },
  "orig_nbformat": 4,
  "vscode": {
   "interpreter": {
    "hash": "c0272e05230dc63e6e03211cff96ee0cfa8f6b88f59df09567db12e0aadba25f"
   }
  }
 },
 "nbformat": 4,
 "nbformat_minor": 2
}
