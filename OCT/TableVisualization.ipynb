{
 "cells": [
  {
   "cell_type": "code",
   "execution_count": 3,
   "metadata": {},
   "outputs": [],
   "source": [
    "import pandas as pd"
   ]
  },
  {
   "cell_type": "code",
   "execution_count": 6,
   "metadata": {},
   "outputs": [
    {
     "name": "stdout",
     "output_type": "stream",
     "text": [
      "\\begin{tabular}{lrll}\n",
      "instance & depth & OCTWS & OCTNoWS \\\\\n",
      "Breast Cancer & 1 & 0.0 (0.0) & 0.0 (0.0) \\\\\n",
      "Breast Cancer & 2 & 0.0 (0.0) & 0.0 (0.0) \\\\\n",
      "Breast Cancer & 3 & 69.6 (38.3) & 66.8 (42.0) \\\\\n",
      "Breast Cancer & 4 & 72.0 (38.3) & 73.2 (37.1) \\\\\n",
      "Car Evaluation & 1 & 0.0 (0.0) & 0.0 (0.0) \\\\\n",
      "Car Evaluation & 2 & 49.9 (42.4) & 55.1 (37.5) \\\\\n",
      "Car Evaluation & 3 & 81.1 (22.5) & 80.7 (22.3) \\\\\n",
      "Car Evaluation & 4 & 87.8 (17.7) & 87.7 (17.7) \\\\\n",
      "Credit Approval & 1 & 0.0 (0.0) & 0.0 (0.0) \\\\\n",
      "Credit Approval & 2 & 65.1 (45.0) & 64.8 (40.3) \\\\\n",
      "Credit Approval & 3 & 80.8 (23.2) & 78.5 (26.3) \\\\\n",
      "Credit Approval & 4 & 78.9 (26.6) & 79.6 (27.0) \\\\\n",
      "Heart Disease & 1 & 0.0 (0.0) & 0.0 (0.0) \\\\\n",
      "Heart Disease & 2 & 52.2 (43.2) & 27.1 (33.6) \\\\\n",
      "Heart Disease & 3 & 85.8 (16.7) & 85.1 (18.2) \\\\\n",
      "Heart Disease & 4 & 89.7 (12.8) & 89.4 (13.3) \\\\\n",
      "Ionosphere & 1 & 0.0 (0.0) & 0.0 (0.0) \\\\\n",
      "Ionosphere & 2 & 53.9 (42.0) & 48.7 (39.5) \\\\\n",
      "Ionosphere & 3 & 65.8 (41.9) & 64.5 (41.4) \\\\\n",
      "Ionosphere & 4 & 62.4 (43.6) & 62.4 (43.6) \\\\\n",
      "Iris & 1 & 0.0 (0.0) & 0.0 (0.0) \\\\\n",
      "Iris & 2 & 0.0 (0.0) & 0.0 (0.0) \\\\\n",
      "Iris & 3 & 0.0 (0.0) & 0.0 (0.0) \\\\\n",
      "Iris & 4 & 13.5 (24.6) & 8.9 (14.4) \\\\\n",
      "Mushroom & 1 & 0.0 (0.0) & 0.0 (0.0) \\\\\n",
      "Mushroom & 2 & 51.7 (43.4) & 57.0 (45.1) \\\\\n",
      "Mushroom & 3 & 82.9 (31.8) & 83.2 (31.9) \\\\\n",
      "Mushroom & 4 & 90.4 (16.5) & 90.4 (16.5) \\\\\n",
      "Statlog (German Credit Data) & 1 & 0.0 (0.0) & 0.0 (0.0) \\\\\n",
      "Statlog (German Credit Data) & 2 & 83.0 (22.0) & 83.0 (22.0) \\\\\n",
      "Statlog (German Credit Data) & 3 & 83.0 (22.0) & 85.3 (18.8) \\\\\n",
      "Statlog (German Credit Data) & 4 & 83.2 (21.4) & 83.2 (21.4) \\\\\n",
      "Wine & 1 & 0.0 (0.0) & 0.0 (0.0) \\\\\n",
      "Wine & 2 & 0.0 (0.0) & 0.0 (0.0) \\\\\n",
      "Wine & 3 & 0.0 (0.0) & 0.0 (0.0) \\\\\n",
      "Wine & 4 & 0.0 (0.0) & 0.0 (0.0) \\\\\n",
      "Zoo & 1 & 0.0 (0.0) & 0.0 (0.0) \\\\\n",
      "Zoo & 2 & 0.0 (0.0) & 0.0 (0.0) \\\\\n",
      "Zoo & 3 & 0.0 (0.0) & 0.0 (0.0) \\\\\n",
      "Zoo & 4 & 38.9 (41.0) & 38.2 (41.6) \\\\\n",
      "\\end{tabular}\n",
      "\n"
     ]
    }
   ],
   "source": [
    "res = pd.read_csv('./res/ResGap.csv')\n",
    "res = res.style.format(precision=3)\n",
    "print(res.hide().to_latex())"
   ]
  }
 ],
 "metadata": {
  "kernelspec": {
   "display_name": "Python 3.9.13",
   "language": "python",
   "name": "python3"
  },
  "language_info": {
   "codemirror_mode": {
    "name": "ipython",
    "version": 3
   },
   "file_extension": ".py",
   "mimetype": "text/x-python",
   "name": "python",
   "nbconvert_exporter": "python",
   "pygments_lexer": "ipython3",
   "version": "3.9.13"
  },
  "orig_nbformat": 4,
  "vscode": {
   "interpreter": {
    "hash": "c0272e05230dc63e6e03211cff96ee0cfa8f6b88f59df09567db12e0aadba25f"
   }
  }
 },
 "nbformat": 4,
 "nbformat_minor": 2
}
