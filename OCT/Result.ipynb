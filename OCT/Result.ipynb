{
 "cells": [
  {
   "cell_type": "code",
   "execution_count": 127,
   "id": "architectural-privacy",
   "metadata": {},
   "outputs": [],
   "source": [
    "import pandas as pd"
   ]
  },
  {
   "cell_type": "code",
   "execution_count": 128,
   "id": "informal-feelings",
   "metadata": {},
   "outputs": [],
   "source": [
    "ResOCTWS = pd.read_csv('./res/OCTWS.csv')\n",
    "ResOCTNoWS = pd.read_csv('./res/OCTNoWS.csv')\n",
    "ResCART = pd.read_csv('./res/CART.csv')\n",
    "ResOCT_b = pd.read_csv('./res/OCT_b.csv')\n",
    "ResOCT_b_scale = pd.read_csv('./res/OCT_b_scale.csv')\n",
    "res = {'OCTWS':ResOCTWS, 'OCTNoWS':ResOCTNoWS, 'OCT_b':ResOCT_b, 'OCT_b_scale':ResOCT_b_scale}"
   ]
  },
  {
   "cell_type": "code",
   "execution_count": 129,
   "id": "smooth-watch",
   "metadata": {},
   "outputs": [],
   "source": [
    "def resProcess(res):\n",
    "    \"\"\"\n",
    "    Calculate the average results from random data split\n",
    "    Select alpha with highest validation accuracy\n",
    "    \"\"\"\n",
    "    if 'alpha' in res.columns:\n",
    "        # Calculate the mean of the feat for each instance, depth and alpha\n",
    "        res_group = res.groupby(['instance', 'depth', 'alpha']).mean().reset_index()\n",
    "        # Find the max/min value of the feat for each instance and depth\n",
    "        res_group = res_group.groupby(['instance', 'depth']) \\\n",
    "                             .apply(lambda group: group[group['train_time'] == group['train_time'].min()]) \\\n",
    "                             .drop_duplicates(subset=['instance', 'depth']) \\\n",
    "                             .reset_index(drop=True)\n",
    "    else:\n",
    "        res_group = res.groupby(['instance', 'depth']).mean().reset_index()\n",
    "    return res_group"
   ]
  },
  {
   "cell_type": "code",
   "execution_count": 130,
   "id": "federal-jersey",
   "metadata": {},
   "outputs": [],
   "source": [
    "def resCombine(res, feat):\n",
    "    df = pd.DataFrame(columns=['instance', 'depth'])\n",
    "    for r in res:\n",
    "        df_cur = resProcess(res[r])[['instance', 'depth', feat]]\n",
    "        df_cur = df_cur.rename(columns={feat:r})\n",
    "        df = df.merge(df_cur, how='outer', on=['instance', 'depth'])\n",
    "    return df"
   ]
  },
  {
   "cell_type": "code",
   "execution_count": 131,
   "id": "crazy-poison",
   "metadata": {},
   "outputs": [],
   "source": [
    "resCombine(res, 'gap').to_csv('./res/res.csv')"
   ]
  }
 ],
 "metadata": {
  "kernelspec": {
   "display_name": "Python 3.12.0 64-bit",
   "language": "python",
   "name": "python3"
  },
  "language_info": {
   "codemirror_mode": {
    "name": "ipython",
    "version": 3
   },
   "file_extension": ".py",
   "mimetype": "text/x-python",
   "name": "python",
   "nbconvert_exporter": "python",
   "pygments_lexer": "ipython3",
   "version": "3.9.13"
  },
  "vscode": {
   "interpreter": {
    "hash": "aee8b7b246df8f9039afb4144a1f6fd8d2ca17a180786b69acc140d282b71a49"
   }
  }
 },
 "nbformat": 4,
 "nbformat_minor": 5
}
