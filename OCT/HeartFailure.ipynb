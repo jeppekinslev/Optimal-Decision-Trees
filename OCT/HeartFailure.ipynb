{
 "cells": [
  {
   "cell_type": "markdown",
   "metadata": {},
   "source": [
    "# Comparing CART and MIO methods to create decision trees"
   ]
  },
  {
   "cell_type": "markdown",
   "metadata": {},
   "source": [
    "Import packages needed for CART and MIO methods"
   ]
  },
  {
   "cell_type": "code",
   "execution_count": 14,
   "metadata": {},
   "outputs": [],
   "source": [
    "import tree as miptree\n",
    "from sklearn.metrics import accuracy_score\n",
    "from sklearn.model_selection import train_test_split\n",
    "from ucimlrepo import fetch_ucirepo\n",
    "from sklearn.tree import DecisionTreeClassifier\n",
    "from sklearn.tree import export_graphviz\n",
    "import pydot\n",
    "from sklearn import tree"
   ]
  },
  {
   "cell_type": "markdown",
   "metadata": {},
   "source": [
    "Define function to convert data into binary:"
   ]
  },
  {
   "cell_type": "code",
   "execution_count": 15,
   "metadata": {},
   "outputs": [],
   "source": [
    "def binary_features(array):\n",
    "    output = array.copy()\n",
    "    for i in range(len(array)):\n",
    "        if 0 < array.num[i]:\n",
    "            output.num[i] = 1\n",
    "    return output"
   ]
  },
  {
   "cell_type": "markdown",
   "metadata": {},
   "source": [
    "Set arguments:"
   ]
  },
  {
   "cell_type": "code",
   "execution_count": 16,
   "metadata": {},
   "outputs": [],
   "source": [
    "timelimit = 600\n",
    "seed = 42\n",
    "train_ratio = 0.5\n",
    "val_ratio = 0.25\n",
    "test_ratio = 0.25\n",
    "max_depth=3\n",
    "min_samples_split=2"
   ]
  },
  {
   "cell_type": "markdown",
   "metadata": {},
   "source": [
    "Import and manipulate data:"
   ]
  },
  {
   "cell_type": "code",
   "execution_count": 21,
   "metadata": {},
   "outputs": [],
   "source": [
    "# Import data\n",
    "heart_disease = fetch_ucirepo(id=45)\n",
    "x = heart_disease.data.features\n",
    "y = heart_disease.data.targets\n",
    "# Drop coloumns with NaN values\n",
    "x = x.drop(labels=[\"ca\",\"thal\"], axis=1)\n",
    "# Convert to numpy array\n",
    "x = x.to_numpy()\n",
    "y = binary_features(y)\n",
    "y = y.values.flatten()\n",
    "# Take only 75 samples\n",
    "x = x[0:74]\n",
    "y = y[0:74]"
   ]
  },
  {
   "cell_type": "markdown",
   "metadata": {},
   "source": [
    "Split data into train, test, and validation sets:"
   ]
  },
  {
   "cell_type": "code",
   "execution_count": 22,
   "metadata": {},
   "outputs": [],
   "source": [
    "x_train, x_test, y_train, y_test = train_test_split(x, y, test_size=1-train_ratio, random_state=seed)"
   ]
  },
  {
   "cell_type": "markdown",
   "metadata": {},
   "source": [
    "# MIO"
   ]
  },
  {
   "cell_type": "markdown",
   "metadata": {},
   "source": [
    "Create tree using miptree:"
   ]
  },
  {
   "cell_type": "code",
   "execution_count": 23,
   "metadata": {},
   "outputs": [
    {
     "name": "stdout",
     "output_type": "stream",
     "text": [
      "Training data include 37 instances, 11 features.\n",
      "Set parameter TimeLimit to value 600\n",
      "Gurobi Optimizer version 10.0.3 build v10.0.3rc0 (mac64[x86])\n",
      "\n",
      "CPU model: Intel(R) Core(TM) i5-1038NG7 CPU @ 2.00GHz\n",
      "Thread count: 4 physical cores, 8 logical processors, using up to 8 threads\n",
      "\n",
      "Optimize a model with 1313 rows, 443 columns and 13054 nonzeros\n",
      "Model fingerprint: 0xf4005749\n",
      "Variable types: 39 continuous, 404 integer (404 binary)\n",
      "Coefficient statistics:\n",
      "  Matrix range     [3e-02, 4e+01]\n",
      "  Objective range  [1e-02, 5e-02]\n",
      "  Bounds range     [1e+00, 1e+00]\n",
      "  RHS range        [1e+00, 4e+01]\n",
      "\n",
      "User MIP start produced solution with objective 0.107619 (0.03s)\n",
      "Loaded user MIP start with objective 0.107619\n",
      "\n",
      "Presolve removed 8 rows and 0 columns\n",
      "Presolve time: 0.02s\n",
      "Presolved: 1305 rows, 443 columns, 12154 nonzeros\n",
      "Variable types: 7 continuous, 436 integer (404 binary)\n",
      "\n",
      "Root relaxation: objective 0.000000e+00, 286 iterations, 0.01 seconds (0.01 work units)\n",
      "\n",
      "    Nodes    |    Current Node    |     Objective Bounds      |     Work\n",
      " Expl Unexpl |  Obj  Depth IntInf | Incumbent    BestBd   Gap | It/Node Time\n",
      "\n",
      "     0     0    0.00000    0    2    0.10762    0.00000   100%     -    0s\n",
      "     0     0    0.00286    0  264    0.10762    0.00286  97.3%     -    0s\n",
      "     0     0    0.01000    0    8    0.10762    0.01000  90.7%     -    0s\n",
      "     0     0    0.01000    0   54    0.10762    0.01000  90.7%     -    0s\n",
      "     0     0    0.01000    0   54    0.10762    0.01000  90.7%     -    0s\n",
      "     0     0    0.01000    0   54    0.10762    0.01000  90.7%     -    0s\n",
      "     0     0    0.01000    0   38    0.10762    0.01000  90.7%     -    0s\n",
      "     0     0    0.01000    0   30    0.10762    0.01000  90.7%     -    0s\n",
      "     0     0    0.01000    0   49    0.10762    0.01000  90.7%     -    0s\n",
      "     0     0    0.01000    0   50    0.10762    0.01000  90.7%     -    0s\n",
      "     0     0    0.01000    0   36    0.10762    0.01000  90.7%     -    0s\n",
      "     0     0    0.01000    0   38    0.10762    0.01000  90.7%     -    0s\n",
      "     0     0    0.01000    0   18    0.10762    0.01000  90.7%     -    0s\n",
      "     0     0    0.01000    0   18    0.10762    0.01000  90.7%     -    0s\n",
      "     0     2    0.01000    0   18    0.10762    0.01000  90.7%     -    0s\n",
      "H   33    35                       0.0976190    0.01000  89.8%   118    0s\n",
      "  8141  3954    0.04000   32   61    0.09762    0.02014  79.4%  27.3    5s\n",
      " 29980 14123    0.04000   38   18    0.09762    0.03000  69.3%  27.3   12s\n",
      " 29991 14130    0.08762   33   30    0.09762    0.03000  69.3%  27.3   15s\n",
      " 30262 14209    0.07520   31   69    0.09762    0.03000  69.3%  27.9   20s\n",
      " 43492 14770 infeasible   44         0.09762    0.03000  69.3%  28.7   25s\n",
      " 63986 14293 infeasible   54         0.09762    0.03000  69.3%  28.1   30s\n",
      " 85611 18024    0.05000   56   59    0.09762    0.03005  69.2%  27.5   35s\n",
      " 111076 24862    0.05116   45   60    0.09762    0.03062  68.6%  26.9   40s\n",
      " 137494 31061 infeasible   44         0.09762    0.03661  62.5%  26.2   45s\n",
      " 165471 37245 infeasible   44         0.09762    0.04000  59.0%  25.3   50s\n",
      " 188603 41079    0.05000   49   50    0.09762    0.04000  59.0%  24.8   55s\n",
      "*213559 33683              61       0.0700000    0.04000  42.9%  24.5   59s\n",
      " 213905 34001 infeasible   59         0.07000    0.04000  42.9%  24.6   60s\n",
      " 247987 39511 infeasible   42         0.07000    0.04000  42.9%  24.0   65s\n",
      " 279298 45182    0.05043   51   65    0.07000    0.04000  42.9%  23.7   70s\n",
      " 298836 49761 infeasible   50         0.07000    0.04000  42.9%  23.5   76s\n",
      " 327431 54342    0.04046   50   97    0.07000    0.04000  42.9%  23.3   80s\n",
      " 357860 59032    0.05002   42   98    0.07000    0.04001  42.8%  23.1   85s\n",
      " 385981 63197 infeasible   58         0.07000    0.04008  42.7%  23.0   90s\n",
      " 413005 66754    0.04026   58   91    0.07000    0.04022  42.5%  22.8   95s\n",
      " 444665 70324    0.05063   50   66    0.07000    0.04059  42.0%  22.7  100s\n",
      " 475828 73278    0.05000   54   48    0.07000    0.04193  40.1%  22.4  105s\n",
      " 498222 74360    0.05000   45   58    0.07000    0.04713  32.7%  22.1  112s\n",
      " 516814 76801    0.06000   53   47    0.07000    0.04849  30.7%  22.0  115s\n",
      " 549553 80087    0.05022   59   62    0.07000    0.05000  28.6%  21.7  120s\n",
      " 580969 83013    0.05896   63   75    0.07000    0.05000  28.6%  21.4  125s\n",
      " 612642 85466    0.05471   62   70    0.07000    0.05000  28.6%  21.1  130s\n",
      " 646056 88498 infeasible   49         0.07000    0.05000  28.6%  20.8  135s\n",
      " 678885 91470 infeasible   58         0.07000    0.05000  28.6%  20.6  140s\n",
      " 711013 94320 infeasible   67         0.07000    0.05000  28.6%  20.4  145s\n",
      " 742178 96612 infeasible   55         0.07000    0.05000  28.6%  20.2  150s\n",
      " 775947 99772 infeasible   54         0.07000    0.05000  28.6%  20.0  155s\n",
      " 809099 103394    0.05000   63   50    0.07000    0.05000  28.6%  19.9  160s\n",
      " 836801 106453 infeasible   55         0.07000    0.05000  28.6%  19.8  165s\n",
      " 870652 109778    0.05000   55   63    0.07000    0.05000  28.6%  19.6  170s\n",
      " 905093 112762    0.06037   62   79    0.07000    0.05000  28.6%  19.5  175s\n",
      " 942541 115423 infeasible   49         0.07000    0.05000  28.6%  19.4  180s\n",
      " 975411 117002    0.06000   63   51    0.07000    0.05000  28.6%  19.3  185s\n",
      " 1006506 118441 infeasible   67         0.07000    0.05000  28.6%  19.1  190s\n",
      " 1038518 119711     cutoff   67         0.07000    0.05000  28.6%  19.1  195s\n",
      " 1062065 121699 infeasible   49         0.07000    0.05000  28.6%  19.0  200s\n",
      " 1083749 122825 infeasible   61         0.07000    0.05000  28.6%  18.9  205s\n",
      " 1108237 124659    0.06000   69   59    0.07000    0.05000  28.6%  18.9  210s\n",
      " 1140878 124694 infeasible   70         0.07000    0.05003  28.5%  18.9  215s\n",
      " 1171808 124548 infeasible   68         0.07000    0.05005  28.5%  18.8  220s\n",
      " 1203285 121821     cutoff   74         0.07000    0.05011  28.4%  18.8  225s\n",
      " 1235259 120298    0.06000   60   48    0.07000    0.05025  28.2%  18.7  230s\n",
      " 1267655 117180    0.06000   68   59    0.07000    0.05066  27.6%  18.7  235s\n",
      " 1296443 114033    0.06000   68   57    0.07000    0.05211  25.6%  18.6  240s\n",
      " 1331088 111849    0.06762   37   33    0.07000    0.05891  15.8%  18.5  245s\n",
      " 1365343 111963    0.06000   51   59    0.07000    0.06000  14.3%  18.4  250s\n",
      " 1407546 106557 infeasible   52         0.07000    0.06000  14.3%  18.2  255s\n",
      " 1440056 101423    0.06000   59   46    0.07000    0.06000  14.3%  18.1  260s\n",
      " 1470997 96344 infeasible   63         0.07000    0.06000  14.3%  18.0  265s\n",
      " 1505039 90928    0.06000   57   38    0.07000    0.06000  14.3%  17.8  270s\n",
      " 1539543 84662 infeasible   53         0.07000    0.06000  14.3%  17.7  275s\n",
      " 1555886 81554 infeasible   64         0.07000    0.06000  14.3%  17.7  280s\n",
      " 1591250 75749 infeasible   65         0.07000    0.06000  14.3%  17.5  285s\n",
      " 1633587 69001 infeasible   61         0.07000    0.06000  14.3%  17.4  290s\n",
      " 1675683 62646 infeasible   63         0.07000    0.06000  14.3%  17.3  295s\n",
      " 1710392 57570    0.06136   69   90    0.07000    0.06000  14.3%  17.2  300s\n",
      " 1745789 51062    0.06009   66   81    0.07000    0.06000  14.3%  17.1  305s\n",
      " 1786481 45066 infeasible   74         0.07000    0.06000  14.3%  17.0  310s\n",
      " 1825838 39014 infeasible   64         0.07000    0.06000  14.3%  16.9  315s\n",
      " 1866240 32428    0.06000   57   56    0.07000    0.06000  14.3%  16.8  320s\n",
      " 1892153 27289    0.06000   59   63    0.07000    0.06000  14.3%  16.8  325s\n",
      " 1937402 20220 infeasible   68         0.07000    0.06000  14.3%  16.7  330s\n",
      " 1971827 12165 infeasible   88         0.07000    0.06003  14.2%  16.6  335s\n",
      "\n",
      "Cutting planes:\n",
      "  Cover: 25\n",
      "  Implied bound: 1\n",
      "  Clique: 1\n",
      "  MIR: 13\n",
      "  StrongCG: 4\n",
      "  Flow cover: 43\n",
      "  GUB cover: 11\n",
      "  Zero half: 2\n",
      "  RLT: 2\n",
      "  Relax-and-lift: 9\n",
      "\n",
      "Explored 1988312 nodes (32985369 simplex iterations) in 337.91 seconds (273.88 work units)\n",
      "Thread count was 8 (of 8 available processors)\n",
      "\n",
      "Solution count 5: 0.07 0.07 0.097619 ... 0.107619\n",
      "\n",
      "Optimal solution found (tolerance 1.00e-04)\n",
      "Best objective 7.000000000000e-02, best bound 7.000000000000e-02, gap 0.0000%\n"
     ]
    }
   ],
   "source": [
    "octree = miptree.optimalDecisionTreeClassifier(max_depth=max_depth, min_samples_split=0, alpha=0.01, timelimit=timelimit)\n",
    "octree.fit(x_train, y_train)"
   ]
  },
  {
   "cell_type": "markdown",
   "metadata": {},
   "source": [
    "Find accuracy of MIO for train data:"
   ]
  },
  {
   "cell_type": "code",
   "execution_count": 24,
   "metadata": {},
   "outputs": [
    {
     "data": {
      "text/plain": [
       "1.0"
      ]
     },
     "execution_count": 24,
     "metadata": {},
     "output_type": "execute_result"
    }
   ],
   "source": [
    "y_train_pred = octree.predict(x_train)\n",
    "accuracy_score(y_train, y_train_pred)"
   ]
  },
  {
   "cell_type": "markdown",
   "metadata": {},
   "source": [
    "Find accuracy of MIO for test data:"
   ]
  },
  {
   "cell_type": "code",
   "execution_count": 25,
   "metadata": {},
   "outputs": [
    {
     "data": {
      "text/plain": [
       "0.6756756756756757"
      ]
     },
     "execution_count": 25,
     "metadata": {},
     "output_type": "execute_result"
    }
   ],
   "source": [
    "y_test_pred = octree.predict(x_test)\n",
    "accuracy_score(y_test, y_test_pred)"
   ]
  },
  {
   "cell_type": "markdown",
   "metadata": {},
   "source": [
    "# CART"
   ]
  },
  {
   "cell_type": "markdown",
   "metadata": {},
   "source": [
    "Create tree using CART:"
   ]
  },
  {
   "cell_type": "code",
   "execution_count": 26,
   "metadata": {},
   "outputs": [
    {
     "data": {
      "text/html": [
       "<style>#sk-container-id-1 {color: black;}#sk-container-id-1 pre{padding: 0;}#sk-container-id-1 div.sk-toggleable {background-color: white;}#sk-container-id-1 label.sk-toggleable__label {cursor: pointer;display: block;width: 100%;margin-bottom: 0;padding: 0.3em;box-sizing: border-box;text-align: center;}#sk-container-id-1 label.sk-toggleable__label-arrow:before {content: \"▸\";float: left;margin-right: 0.25em;color: #696969;}#sk-container-id-1 label.sk-toggleable__label-arrow:hover:before {color: black;}#sk-container-id-1 div.sk-estimator:hover label.sk-toggleable__label-arrow:before {color: black;}#sk-container-id-1 div.sk-toggleable__content {max-height: 0;max-width: 0;overflow: hidden;text-align: left;background-color: #f0f8ff;}#sk-container-id-1 div.sk-toggleable__content pre {margin: 0.2em;color: black;border-radius: 0.25em;background-color: #f0f8ff;}#sk-container-id-1 input.sk-toggleable__control:checked~div.sk-toggleable__content {max-height: 200px;max-width: 100%;overflow: auto;}#sk-container-id-1 input.sk-toggleable__control:checked~label.sk-toggleable__label-arrow:before {content: \"▾\";}#sk-container-id-1 div.sk-estimator input.sk-toggleable__control:checked~label.sk-toggleable__label {background-color: #d4ebff;}#sk-container-id-1 div.sk-label input.sk-toggleable__control:checked~label.sk-toggleable__label {background-color: #d4ebff;}#sk-container-id-1 input.sk-hidden--visually {border: 0;clip: rect(1px 1px 1px 1px);clip: rect(1px, 1px, 1px, 1px);height: 1px;margin: -1px;overflow: hidden;padding: 0;position: absolute;width: 1px;}#sk-container-id-1 div.sk-estimator {font-family: monospace;background-color: #f0f8ff;border: 1px dotted black;border-radius: 0.25em;box-sizing: border-box;margin-bottom: 0.5em;}#sk-container-id-1 div.sk-estimator:hover {background-color: #d4ebff;}#sk-container-id-1 div.sk-parallel-item::after {content: \"\";width: 100%;border-bottom: 1px solid gray;flex-grow: 1;}#sk-container-id-1 div.sk-label:hover label.sk-toggleable__label {background-color: #d4ebff;}#sk-container-id-1 div.sk-serial::before {content: \"\";position: absolute;border-left: 1px solid gray;box-sizing: border-box;top: 0;bottom: 0;left: 50%;z-index: 0;}#sk-container-id-1 div.sk-serial {display: flex;flex-direction: column;align-items: center;background-color: white;padding-right: 0.2em;padding-left: 0.2em;position: relative;}#sk-container-id-1 div.sk-item {position: relative;z-index: 1;}#sk-container-id-1 div.sk-parallel {display: flex;align-items: stretch;justify-content: center;background-color: white;position: relative;}#sk-container-id-1 div.sk-item::before, #sk-container-id-1 div.sk-parallel-item::before {content: \"\";position: absolute;border-left: 1px solid gray;box-sizing: border-box;top: 0;bottom: 0;left: 50%;z-index: -1;}#sk-container-id-1 div.sk-parallel-item {display: flex;flex-direction: column;z-index: 1;position: relative;background-color: white;}#sk-container-id-1 div.sk-parallel-item:first-child::after {align-self: flex-end;width: 50%;}#sk-container-id-1 div.sk-parallel-item:last-child::after {align-self: flex-start;width: 50%;}#sk-container-id-1 div.sk-parallel-item:only-child::after {width: 0;}#sk-container-id-1 div.sk-dashed-wrapped {border: 1px dashed gray;margin: 0 0.4em 0.5em 0.4em;box-sizing: border-box;padding-bottom: 0.4em;background-color: white;}#sk-container-id-1 div.sk-label label {font-family: monospace;font-weight: bold;display: inline-block;line-height: 1.2em;}#sk-container-id-1 div.sk-label-container {text-align: center;}#sk-container-id-1 div.sk-container {/* jupyter's `normalize.less` sets `[hidden] { display: none; }` but bootstrap.min.css set `[hidden] { display: none !important; }` so we also need the `!important` here to be able to override the default hidden behavior on the sphinx rendered scikit-learn.org. See: https://github.com/scikit-learn/scikit-learn/issues/21755 */display: inline-block !important;position: relative;}#sk-container-id-1 div.sk-text-repr-fallback {display: none;}</style><div id=\"sk-container-id-1\" class=\"sk-top-container\"><div class=\"sk-text-repr-fallback\"><pre>DecisionTreeClassifier(ccp_alpha=0.01, max_depth=3)</pre><b>In a Jupyter environment, please rerun this cell to show the HTML representation or trust the notebook. <br />On GitHub, the HTML representation is unable to render, please try loading this page with nbviewer.org.</b></div><div class=\"sk-container\" hidden><div class=\"sk-item\"><div class=\"sk-estimator sk-toggleable\"><input class=\"sk-toggleable__control sk-hidden--visually\" id=\"sk-estimator-id-1\" type=\"checkbox\" checked><label for=\"sk-estimator-id-1\" class=\"sk-toggleable__label sk-toggleable__label-arrow\">DecisionTreeClassifier</label><div class=\"sk-toggleable__content\"><pre>DecisionTreeClassifier(ccp_alpha=0.01, max_depth=3)</pre></div></div></div></div></div>"
      ],
      "text/plain": [
       "DecisionTreeClassifier(ccp_alpha=0.01, max_depth=3)"
      ]
     },
     "execution_count": 26,
     "metadata": {},
     "output_type": "execute_result"
    }
   ],
   "source": [
    "tree = DecisionTreeClassifier(max_depth=max_depth, min_samples_split=min_samples_split, ccp_alpha = 0.01)\n",
    "tree.fit(x_train, y_train)"
   ]
  },
  {
   "cell_type": "markdown",
   "metadata": {},
   "source": [
    "Find accuracy of CART for train data:"
   ]
  },
  {
   "cell_type": "code",
   "execution_count": 27,
   "metadata": {},
   "outputs": [
    {
     "data": {
      "text/plain": [
       "0.972972972972973"
      ]
     },
     "execution_count": 27,
     "metadata": {},
     "output_type": "execute_result"
    }
   ],
   "source": [
    "y_train_pred = tree.predict(x_train)\n",
    "accuracy_score(y_train, y_train_pred)"
   ]
  },
  {
   "cell_type": "markdown",
   "metadata": {},
   "source": [
    "Find accuracy of CART for test data:"
   ]
  },
  {
   "cell_type": "code",
   "execution_count": 28,
   "metadata": {},
   "outputs": [
    {
     "data": {
      "text/plain": [
       "0.7027027027027027"
      ]
     },
     "execution_count": 28,
     "metadata": {},
     "output_type": "execute_result"
    }
   ],
   "source": [
    "y_test_pred = tree.predict(x_test)\n",
    "accuracy_score(y_test, y_test_pred)"
   ]
  }
 ],
 "metadata": {
  "kernelspec": {
   "display_name": "Python 3.11.5 64-bit",
   "language": "python",
   "name": "python3"
  },
  "language_info": {
   "codemirror_mode": {
    "name": "ipython",
    "version": 3
   },
   "file_extension": ".py",
   "mimetype": "text/x-python",
   "name": "python",
   "nbconvert_exporter": "python",
   "pygments_lexer": "ipython3",
   "version": "3.11.5"
  },
  "orig_nbformat": 4,
  "vscode": {
   "interpreter": {
    "hash": "aee8b7b246df8f9039afb4144a1f6fd8d2ca17a180786b69acc140d282b71a49"
   }
  }
 },
 "nbformat": 4,
 "nbformat_minor": 2
}
