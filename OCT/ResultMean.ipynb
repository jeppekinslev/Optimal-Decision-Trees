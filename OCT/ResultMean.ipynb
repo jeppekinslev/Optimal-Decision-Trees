{
 "cells": [
  {
   "cell_type": "code",
   "execution_count": 15,
   "id": "architectural-privacy",
   "metadata": {},
   "outputs": [],
   "source": [
    "import pandas as pd"
   ]
  },
  {
   "cell_type": "code",
   "execution_count": 16,
   "id": "informal-feelings",
   "metadata": {},
   "outputs": [],
   "source": [
    "ResOCTWS = pd.read_csv('./res/OCTWS.csv')\n",
    "ResOCTNoWS = pd.read_csv('./res/OCTNoWS.csv')\n",
    "ResCART = pd.read_csv('./res/CART.csv')\n",
    "res = {'OCTWS':ResOCTWS, 'OCTNoWS':ResOCTNoWS, 'CART':ResCART}"
   ]
  },
  {
   "cell_type": "code",
   "execution_count": 17,
   "id": "52c0c712",
   "metadata": {},
   "outputs": [],
   "source": [
    "def resProcess(res):\n",
    "    \"\"\"\n",
    "    Calculate the average results from random data split\n",
    "    Select alpha with highest validation accuracy\n",
    "    \"\"\"\n",
    "    if 'alpha' in res.columns:\n",
    "        # Calculate the mean of the feat for each instance, depth and alpha\n",
    "        mean = res.groupby(['instance', 'depth']).mean().reset_index()\n",
    "        std = res.groupby(['instance', 'depth']).std().reset_index()\n",
    "    else:\n",
    "        mean = res.groupby(['instance', 'depth']).mean().reset_index()\n",
    "        std = res.groupby(['instance', 'depth']).std().reset_index()\n",
    "    return mean, std"
   ]
  },
  {
   "cell_type": "code",
   "execution_count": 18,
   "id": "44978629",
   "metadata": {},
   "outputs": [],
   "source": [
    "def resCombine(res, feat):\n",
    "    df = pd.DataFrame(columns=['instance', 'depth'])\n",
    "    for r in res:\n",
    "        df_mean, df_std = resProcess(res[r])\n",
    "        df_mean = df_mean[['instance', 'depth', feat]]\n",
    "        df_std = df_std[['instance', 'depth', feat]]\n",
    "        if r == \"CART\":\n",
    "            df_mean[feat] = df_mean[feat].round(4)\n",
    "            df_std[feat] = df_std[feat].round(4)\n",
    "        else:\n",
    "            df_mean[feat] = df_mean[feat].round(1)\n",
    "            df_std[feat] = df_std[feat].round(1)\n",
    "        df_mean[feat] = df_mean[feat].astype(str)\n",
    "        df_std[feat] = df_std[feat].astype(str)\n",
    "        df = df.merge(df_mean, how='outer', on=['instance', 'depth'])\n",
    "        df = df.merge(df_std, how='outer', on=['instance', 'depth'])\n",
    "        # rename columns to distinguish different models\n",
    "        df.rename(columns={feat+'_x':r+'_mean', feat+'_y':r+'_std'}, inplace=True)\n",
    "        df[r] = df[r+\"_mean\"] + \" (\" + df[r+'_std'] + \")\"\n",
    "    df = df[['instance', 'depth'] + list(res.keys())]\n",
    "    return df"
   ]
  },
  {
   "cell_type": "code",
   "execution_count": 19,
   "id": "f65edc61",
   "metadata": {},
   "outputs": [],
   "source": [
    "resCombine(res, 'train_time').to_csv('./res/ResTrainTime.csv', index=False)"
   ]
  }
 ],
 "metadata": {
  "kernelspec": {
   "display_name": "Python 3.12.0 64-bit",
   "language": "python",
   "name": "python3"
  },
  "language_info": {
   "codemirror_mode": {
    "name": "ipython",
    "version": 3
   },
   "file_extension": ".py",
   "mimetype": "text/x-python",
   "name": "python",
   "nbconvert_exporter": "python",
   "pygments_lexer": "ipython3",
   "version": "3.9.13"
  },
  "vscode": {
   "interpreter": {
    "hash": "aee8b7b246df8f9039afb4144a1f6fd8d2ca17a180786b69acc140d282b71a49"
   }
  }
 },
 "nbformat": 4,
 "nbformat_minor": 5
}
